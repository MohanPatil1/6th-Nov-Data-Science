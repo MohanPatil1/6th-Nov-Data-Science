{
 "cells": [
  {
   "cell_type": "code",
   "execution_count": 1,
   "id": "8373b063",
   "metadata": {},
   "outputs": [],
   "source": [
    "import pandas as pd\n",
    "import matplotlib.pyplot as plt"
   ]
  },
  {
   "cell_type": "markdown",
   "id": "26299af0",
   "metadata": {},
   "source": [
    "### Read the Data"
   ]
  },
  {
   "cell_type": "code",
   "execution_count": 2,
   "id": "5628553c",
   "metadata": {},
   "outputs": [
    {
     "data": {
      "text/html": [
       "<div>\n",
       "<style scoped>\n",
       "    .dataframe tbody tr th:only-of-type {\n",
       "        vertical-align: middle;\n",
       "    }\n",
       "\n",
       "    .dataframe tbody tr th {\n",
       "        vertical-align: top;\n",
       "    }\n",
       "\n",
       "    .dataframe thead th {\n",
       "        text-align: right;\n",
       "    }\n",
       "</style>\n",
       "<table border=\"1\" class=\"dataframe\">\n",
       "  <thead>\n",
       "    <tr style=\"text-align: right;\">\n",
       "      <th></th>\n",
       "      <th>SAT</th>\n",
       "      <th>Top10</th>\n",
       "      <th>Accept</th>\n",
       "      <th>SFRatio</th>\n",
       "      <th>Expenses</th>\n",
       "      <th>GradRate</th>\n",
       "    </tr>\n",
       "    <tr>\n",
       "      <th>Univ</th>\n",
       "      <th></th>\n",
       "      <th></th>\n",
       "      <th></th>\n",
       "      <th></th>\n",
       "      <th></th>\n",
       "      <th></th>\n",
       "    </tr>\n",
       "  </thead>\n",
       "  <tbody>\n",
       "    <tr>\n",
       "      <th>Brown</th>\n",
       "      <td>1310</td>\n",
       "      <td>89</td>\n",
       "      <td>22</td>\n",
       "      <td>13</td>\n",
       "      <td>22704</td>\n",
       "      <td>94</td>\n",
       "    </tr>\n",
       "    <tr>\n",
       "      <th>CalTech</th>\n",
       "      <td>1415</td>\n",
       "      <td>100</td>\n",
       "      <td>25</td>\n",
       "      <td>6</td>\n",
       "      <td>63575</td>\n",
       "      <td>81</td>\n",
       "    </tr>\n",
       "    <tr>\n",
       "      <th>CMU</th>\n",
       "      <td>1260</td>\n",
       "      <td>62</td>\n",
       "      <td>59</td>\n",
       "      <td>9</td>\n",
       "      <td>25026</td>\n",
       "      <td>72</td>\n",
       "    </tr>\n",
       "    <tr>\n",
       "      <th>Columbia</th>\n",
       "      <td>1310</td>\n",
       "      <td>76</td>\n",
       "      <td>24</td>\n",
       "      <td>12</td>\n",
       "      <td>31510</td>\n",
       "      <td>88</td>\n",
       "    </tr>\n",
       "    <tr>\n",
       "      <th>Cornell</th>\n",
       "      <td>1280</td>\n",
       "      <td>83</td>\n",
       "      <td>33</td>\n",
       "      <td>13</td>\n",
       "      <td>21864</td>\n",
       "      <td>90</td>\n",
       "    </tr>\n",
       "  </tbody>\n",
       "</table>\n",
       "</div>"
      ],
      "text/plain": [
       "           SAT  Top10  Accept  SFRatio  Expenses  GradRate\n",
       "Univ                                                      \n",
       "Brown     1310     89      22       13     22704        94\n",
       "CalTech   1415    100      25        6     63575        81\n",
       "CMU       1260     62      59        9     25026        72\n",
       "Columbia  1310     76      24       12     31510        88\n",
       "Cornell   1280     83      33       13     21864        90"
      ]
     },
     "execution_count": 2,
     "metadata": {},
     "output_type": "execute_result"
    }
   ],
   "source": [
    "univ = pd.read_csv('../Clustering/Universities.csv',index_col='Univ')\n",
    "univ.head()"
   ]
  },
  {
   "cell_type": "code",
   "execution_count": 3,
   "id": "640fb19c",
   "metadata": {},
   "outputs": [
    {
     "name": "stdout",
     "output_type": "stream",
     "text": [
      "<class 'pandas.core.frame.DataFrame'>\n",
      "Index: 25 entries, Brown to Yale\n",
      "Data columns (total 6 columns):\n",
      " #   Column    Non-Null Count  Dtype\n",
      "---  ------    --------------  -----\n",
      " 0   SAT       25 non-null     int64\n",
      " 1   Top10     25 non-null     int64\n",
      " 2   Accept    25 non-null     int64\n",
      " 3   SFRatio   25 non-null     int64\n",
      " 4   Expenses  25 non-null     int64\n",
      " 5   GradRate  25 non-null     int64\n",
      "dtypes: int64(6)\n",
      "memory usage: 1.4+ KB\n"
     ]
    }
   ],
   "source": [
    "univ.info()"
   ]
  },
  {
   "cell_type": "markdown",
   "id": "2b1e440e",
   "metadata": {},
   "source": [
    "### Scale the data using Minmax Scaler"
   ]
  },
  {
   "cell_type": "code",
   "execution_count": 5,
   "id": "7c93d73e",
   "metadata": {},
   "outputs": [],
   "source": [
    "from sklearn.preprocessing import MinMaxScaler"
   ]
  },
  {
   "cell_type": "code",
   "execution_count": 7,
   "id": "ee70f508",
   "metadata": {},
   "outputs": [],
   "source": [
    "scaler = MinMaxScaler()\n",
    "scaled_data = scaler.fit_transform(univ)"
   ]
  },
  {
   "cell_type": "markdown",
   "id": "591a95b8",
   "metadata": {},
   "source": [
    "### build the Model"
   ]
  },
  {
   "cell_type": "code",
   "execution_count": 8,
   "id": "9df2560b",
   "metadata": {},
   "outputs": [],
   "source": [
    "from sklearn.cluster import AgglomerativeClustering"
   ]
  },
  {
   "cell_type": "code",
   "execution_count": 9,
   "id": "1fb5f9ed",
   "metadata": {},
   "outputs": [],
   "source": [
    "model = AgglomerativeClustering(n_clusters=3,affinity='euclidean',linkage='complete')"
   ]
  },
  {
   "cell_type": "code",
   "execution_count": 10,
   "id": "4ae52161",
   "metadata": {},
   "outputs": [
    {
     "data": {
      "text/plain": [
       "AgglomerativeClustering(linkage='complete', n_clusters=3)"
      ]
     },
     "execution_count": 10,
     "metadata": {},
     "output_type": "execute_result"
    }
   ],
   "source": [
    "model.fit(scaled_data)"
   ]
  },
  {
   "cell_type": "code",
   "execution_count": 11,
   "id": "54451db5",
   "metadata": {},
   "outputs": [
    {
     "data": {
      "text/plain": [
       "array([0, 2, 0, 0, 0, 2, 2, 0, 2, 2, 2, 0, 0, 1, 2, 1, 2, 1, 0, 2, 0, 0,\n",
       "       0, 1, 2], dtype=int64)"
      ]
     },
     "execution_count": 11,
     "metadata": {},
     "output_type": "execute_result"
    }
   ],
   "source": [
    "model.labels_"
   ]
  },
  {
   "cell_type": "code",
   "execution_count": 12,
   "id": "cbf16f4e",
   "metadata": {},
   "outputs": [],
   "source": [
    "univ['Labels']=model.labels_"
   ]
  },
  {
   "cell_type": "code",
   "execution_count": 13,
   "id": "e3dd6b67",
   "metadata": {},
   "outputs": [
    {
     "data": {
      "text/html": [
       "<div>\n",
       "<style scoped>\n",
       "    .dataframe tbody tr th:only-of-type {\n",
       "        vertical-align: middle;\n",
       "    }\n",
       "\n",
       "    .dataframe tbody tr th {\n",
       "        vertical-align: top;\n",
       "    }\n",
       "\n",
       "    .dataframe thead th {\n",
       "        text-align: right;\n",
       "    }\n",
       "</style>\n",
       "<table border=\"1\" class=\"dataframe\">\n",
       "  <thead>\n",
       "    <tr style=\"text-align: right;\">\n",
       "      <th></th>\n",
       "      <th>SAT</th>\n",
       "      <th>Top10</th>\n",
       "      <th>Accept</th>\n",
       "      <th>SFRatio</th>\n",
       "      <th>Expenses</th>\n",
       "      <th>GradRate</th>\n",
       "      <th>Labels</th>\n",
       "    </tr>\n",
       "    <tr>\n",
       "      <th>Univ</th>\n",
       "      <th></th>\n",
       "      <th></th>\n",
       "      <th></th>\n",
       "      <th></th>\n",
       "      <th></th>\n",
       "      <th></th>\n",
       "      <th></th>\n",
       "    </tr>\n",
       "  </thead>\n",
       "  <tbody>\n",
       "    <tr>\n",
       "      <th>Brown</th>\n",
       "      <td>1310</td>\n",
       "      <td>89</td>\n",
       "      <td>22</td>\n",
       "      <td>13</td>\n",
       "      <td>22704</td>\n",
       "      <td>94</td>\n",
       "      <td>0</td>\n",
       "    </tr>\n",
       "    <tr>\n",
       "      <th>CalTech</th>\n",
       "      <td>1415</td>\n",
       "      <td>100</td>\n",
       "      <td>25</td>\n",
       "      <td>6</td>\n",
       "      <td>63575</td>\n",
       "      <td>81</td>\n",
       "      <td>2</td>\n",
       "    </tr>\n",
       "    <tr>\n",
       "      <th>CMU</th>\n",
       "      <td>1260</td>\n",
       "      <td>62</td>\n",
       "      <td>59</td>\n",
       "      <td>9</td>\n",
       "      <td>25026</td>\n",
       "      <td>72</td>\n",
       "      <td>0</td>\n",
       "    </tr>\n",
       "    <tr>\n",
       "      <th>Columbia</th>\n",
       "      <td>1310</td>\n",
       "      <td>76</td>\n",
       "      <td>24</td>\n",
       "      <td>12</td>\n",
       "      <td>31510</td>\n",
       "      <td>88</td>\n",
       "      <td>0</td>\n",
       "    </tr>\n",
       "    <tr>\n",
       "      <th>Cornell</th>\n",
       "      <td>1280</td>\n",
       "      <td>83</td>\n",
       "      <td>33</td>\n",
       "      <td>13</td>\n",
       "      <td>21864</td>\n",
       "      <td>90</td>\n",
       "      <td>0</td>\n",
       "    </tr>\n",
       "  </tbody>\n",
       "</table>\n",
       "</div>"
      ],
      "text/plain": [
       "           SAT  Top10  Accept  SFRatio  Expenses  GradRate  Labels\n",
       "Univ                                                              \n",
       "Brown     1310     89      22       13     22704        94       0\n",
       "CalTech   1415    100      25        6     63575        81       2\n",
       "CMU       1260     62      59        9     25026        72       0\n",
       "Columbia  1310     76      24       12     31510        88       0\n",
       "Cornell   1280     83      33       13     21864        90       0"
      ]
     },
     "execution_count": 13,
     "metadata": {},
     "output_type": "execute_result"
    }
   ],
   "source": [
    "univ.head()"
   ]
  },
  {
   "cell_type": "code",
   "execution_count": 14,
   "id": "7915c71c",
   "metadata": {},
   "outputs": [],
   "source": [
    "grp = univ.groupby('Labels')"
   ]
  },
  {
   "cell_type": "code",
   "execution_count": 16,
   "id": "33f3757c",
   "metadata": {},
   "outputs": [
    {
     "name": "stdout",
     "output_type": "stream",
     "text": [
      "               SAT  Top10  Accept  SFRatio  Expenses  GradRate  Labels\n",
      "Univ                                                                  \n",
      "Brown         1310     89      22       13     22704        94       0\n",
      "CMU           1260     62      59        9     25026        72       0\n",
      "Columbia      1310     76      24       12     31510        88       0\n",
      "Cornell       1280     83      33       13     21864        90       0\n",
      "Georgetown    1255     74      24       12     20126        92       0\n",
      "Northwestern  1260     85      39       11     28052        89       0\n",
      "NotreDame     1255     81      42       13     15122        94       0\n",
      "UCBerkeley    1240     95      40       17     15140        78       0\n",
      "UMichigan     1180     65      68       16     15470        85       0\n",
      "UPenn         1285     80      36       11     27553        90       0\n",
      "UVA           1225     77      44       14     13349        92       0\n",
      "____________________________________________________________\n",
      "             SAT  Top10  Accept  SFRatio  Expenses  GradRate  Labels\n",
      "Univ                                                                \n",
      "PennState   1081     38      54       18     10185        80       1\n",
      "Purdue      1005     28      90       19      9066        69       1\n",
      "TexasA&M    1075     49      67       25      8704        67       1\n",
      "UWisconsin  1085     40      69       15     11857        71       1\n",
      "____________________________________________________________\n",
      "               SAT  Top10  Accept  SFRatio  Expenses  GradRate  Labels\n",
      "Univ                                                                  \n",
      "CalTech       1415    100      25        6     63575        81       2\n",
      "Dartmouth     1340     89      23       10     32162        95       2\n",
      "Duke          1315     90      30       12     31585        95       2\n",
      "Harvard       1400     91      14       11     39525        97       2\n",
      "JohnsHopkins  1305     75      44        7     58691        87       2\n",
      "MIT           1380     94      30       10     34870        91       2\n",
      "Princeton     1375     91      14        8     30220        95       2\n",
      "Stanford      1360     90      20       12     36450        93       2\n",
      "UChicago      1290     75      50       13     38380        87       2\n",
      "Yale          1375     95      19       11     43514        96       2\n",
      "____________________________________________________________\n"
     ]
    }
   ],
   "source": [
    "for x,y in grp:\n",
    "    print(y)\n",
    "    print('_'*60)"
   ]
  },
  {
   "cell_type": "code",
   "execution_count": 17,
   "id": "b07ad66c",
   "metadata": {},
   "outputs": [
    {
     "data": {
      "text/html": [
       "<div>\n",
       "<style scoped>\n",
       "    .dataframe tbody tr th:only-of-type {\n",
       "        vertical-align: middle;\n",
       "    }\n",
       "\n",
       "    .dataframe tbody tr th {\n",
       "        vertical-align: top;\n",
       "    }\n",
       "\n",
       "    .dataframe thead th {\n",
       "        text-align: right;\n",
       "    }\n",
       "</style>\n",
       "<table border=\"1\" class=\"dataframe\">\n",
       "  <thead>\n",
       "    <tr style=\"text-align: right;\">\n",
       "      <th></th>\n",
       "      <th>SAT</th>\n",
       "      <th>Top10</th>\n",
       "      <th>Accept</th>\n",
       "      <th>SFRatio</th>\n",
       "      <th>Expenses</th>\n",
       "      <th>GradRate</th>\n",
       "    </tr>\n",
       "    <tr>\n",
       "      <th>Labels</th>\n",
       "      <th></th>\n",
       "      <th></th>\n",
       "      <th></th>\n",
       "      <th></th>\n",
       "      <th></th>\n",
       "      <th></th>\n",
       "    </tr>\n",
       "  </thead>\n",
       "  <tbody>\n",
       "    <tr>\n",
       "      <th>0</th>\n",
       "      <td>1260.0</td>\n",
       "      <td>78.818182</td>\n",
       "      <td>39.181818</td>\n",
       "      <td>12.818182</td>\n",
       "      <td>21446.909091</td>\n",
       "      <td>87.636364</td>\n",
       "    </tr>\n",
       "    <tr>\n",
       "      <th>1</th>\n",
       "      <td>1061.5</td>\n",
       "      <td>38.750000</td>\n",
       "      <td>70.000000</td>\n",
       "      <td>19.250000</td>\n",
       "      <td>9953.000000</td>\n",
       "      <td>71.750000</td>\n",
       "    </tr>\n",
       "    <tr>\n",
       "      <th>2</th>\n",
       "      <td>1355.5</td>\n",
       "      <td>89.000000</td>\n",
       "      <td>26.900000</td>\n",
       "      <td>10.000000</td>\n",
       "      <td>40897.200000</td>\n",
       "      <td>91.700000</td>\n",
       "    </tr>\n",
       "  </tbody>\n",
       "</table>\n",
       "</div>"
      ],
      "text/plain": [
       "           SAT      Top10     Accept    SFRatio      Expenses   GradRate\n",
       "Labels                                                                  \n",
       "0       1260.0  78.818182  39.181818  12.818182  21446.909091  87.636364\n",
       "1       1061.5  38.750000  70.000000  19.250000   9953.000000  71.750000\n",
       "2       1355.5  89.000000  26.900000  10.000000  40897.200000  91.700000"
      ]
     },
     "execution_count": 17,
     "metadata": {},
     "output_type": "execute_result"
    }
   ],
   "source": [
    "grp.agg('mean')"
   ]
  },
  {
   "cell_type": "code",
   "execution_count": 18,
   "id": "dd55a8b8",
   "metadata": {},
   "outputs": [],
   "source": [
    "from scipy.cluster import hierarchy"
   ]
  },
  {
   "cell_type": "code",
   "execution_count": 19,
   "id": "f5323eb8",
   "metadata": {},
   "outputs": [
    {
     "data": {
      "image/png": "[encoded data removed]",
      "text/plain": [
       "<Figure size 640x480 with 1 Axes>"
      ]
     },
     "metadata": {},
     "output_type": "display_data"
    }
   ],
   "source": [
    "hr = hierarchy.linkage(scaled_data,method='complete')\n",
    "dn = hierarchy.dendrogram(hr)"
   ]
  },
  {
   "cell_type": "code",
   "execution_count": null,
   "id": "f84f6afa",
   "metadata": {},
   "outputs": [],
   "source": []
  }
 ],
 "metadata": {
  "kernelspec": {
   "display_name": "Python 3 (ipykernel)",
   "language": "python",
   "name": "python3"
  },
  "language_info": {
   "codemirror_mode": {
    "name": "ipython",
    "version": 3
   },
   "file_extension": ".py",
   "mimetype": "text/x-python",
   "name": "python",
   "nbconvert_exporter": "python",
   "pygments_lexer": "ipython3",
   "version": "3.9.13"
  }
 },
 "nbformat": 4,
 "nbformat_minor": 5
}
