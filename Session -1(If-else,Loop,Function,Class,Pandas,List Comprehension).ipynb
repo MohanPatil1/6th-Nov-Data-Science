{
 "cells": [
  {
   "cell_type": "markdown",
   "id": "42cc5470",
   "metadata": {},
   "source": [
    "# If-else statement"
   ]
  },
  {
   "cell_type": "code",
   "execution_count": 5,
   "id": "1f67db25",
   "metadata": {},
   "outputs": [
    {
     "name": "stdout",
     "output_type": "stream",
     "text": [
      "Negative\n",
      "Be Positive\n"
     ]
    }
   ],
   "source": [
    "x = -10\n",
    "if x > 0:\n",
    "    print(\"Positive\")\n",
    "    print(\"Congrats\")\n",
    "else:\n",
    "    print(\"Negative\")\n",
    "    print(\"Be Positive\")"
   ]
  },
  {
   "cell_type": "code",
   "execution_count": 7,
   "id": "498b72ca",
   "metadata": {},
   "outputs": [
    {
     "name": "stdout",
     "output_type": "stream",
     "text": [
      "Zero\n"
     ]
    }
   ],
   "source": [
    "x = 0\n",
    "if x == 0:\n",
    "    print(\"Zero\")\n",
    "else:\n",
    "    print(\"Hero\")"
   ]
  },
  {
   "cell_type": "code",
   "execution_count": 11,
   "id": "06784797",
   "metadata": {},
   "outputs": [
    {
     "name": "stdout",
     "output_type": "stream",
     "text": [
      "Enter the Number :90\n",
      "Distinction\n"
     ]
    }
   ],
   "source": [
    "mark = int(input(\"Enter the Number :\"))\n",
    "if mark > 85:\n",
    "    print(\"Distinction\")\n",
    "elif mark >= 60:\n",
    "    print(\"First class\")\n",
    "elif mark >=50 :\n",
    "    print(\"Second class\")\n",
    "else:\n",
    "    print(\"Fail\")"
   ]
  },
  {
   "cell_type": "markdown",
   "id": "f057faca",
   "metadata": {},
   "source": [
    "### Loops"
   ]
  },
  {
   "cell_type": "code",
   "execution_count": 12,
   "id": "65ab0ff4",
   "metadata": {},
   "outputs": [],
   "source": [
    "lst = [34,57,78,21,90,65]"
   ]
  },
  {
   "cell_type": "code",
   "execution_count": 16,
   "id": "7c5bed64",
   "metadata": {},
   "outputs": [
    {
     "name": "stdout",
     "output_type": "stream",
     "text": [
      "34  -> Fail\n",
      "57  -> Second class\n",
      "78  -> First class\n",
      "21  -> Fail\n",
      "90  -> Distinction\n",
      "65  -> First class\n"
     ]
    }
   ],
   "source": [
    "for mark in lst:\n",
    "    if mark > 85:\n",
    "        print(mark,\" -> Distinction\")\n",
    "    elif mark >= 60:\n",
    "        print(mark,\" -> First class\")\n",
    "    elif mark >=50 :\n",
    "        print(mark,\" -> Second class\")\n",
    "    else:\n",
    "        print(mark,\" -> Fail\")"
   ]
  },
  {
   "cell_type": "code",
   "execution_count": 17,
   "id": "ddc28f0b",
   "metadata": {},
   "outputs": [
    {
     "name": "stdout",
     "output_type": "stream",
     "text": [
      "0\n",
      "1\n",
      "2\n",
      "3\n",
      "4\n"
     ]
    }
   ],
   "source": [
    "for x in range(5):\n",
    "    print(x)"
   ]
  },
  {
   "cell_type": "code",
   "execution_count": 18,
   "id": "99a8ccc5",
   "metadata": {},
   "outputs": [
    {
     "name": "stdout",
     "output_type": "stream",
     "text": [
      "1\n",
      "2\n",
      "3\n",
      "4\n",
      "5\n"
     ]
    }
   ],
   "source": [
    "for x in range(1,6):\n",
    "    print(x)"
   ]
  },
  {
   "cell_type": "code",
   "execution_count": 19,
   "id": "52b8b34b",
   "metadata": {},
   "outputs": [
    {
     "name": "stdout",
     "output_type": "stream",
     "text": [
      "1\n",
      "21\n",
      "41\n",
      "61\n",
      "81\n",
      "101\n"
     ]
    }
   ],
   "source": [
    "for x in range(1,102,20):\n",
    "    print(x)"
   ]
  },
  {
   "cell_type": "markdown",
   "id": "857c76b7",
   "metadata": {},
   "source": [
    "### While Loop"
   ]
  },
  {
   "cell_type": "code",
   "execution_count": 20,
   "id": "2833e3d7",
   "metadata": {},
   "outputs": [
    {
     "name": "stdout",
     "output_type": "stream",
     "text": [
      "Hello\n",
      "Hello\n",
      "Hello\n",
      "Finish\n"
     ]
    }
   ],
   "source": [
    "cnt = 0\n",
    "while cnt < 3:\n",
    "    print(\"Hello\")\n",
    "    cnt +=1\n",
    "print(\"Finish\")"
   ]
  },
  {
   "cell_type": "markdown",
   "id": "063f1ba7",
   "metadata": {},
   "source": [
    "### Break-come out of Loop"
   ]
  },
  {
   "cell_type": "code",
   "execution_count": 23,
   "id": "c35fdce6",
   "metadata": {},
   "outputs": [
    {
     "name": "stdout",
     "output_type": "stream",
     "text": [
      "Hello\n",
      "Hello\n",
      "Hello\n",
      "Finish\n"
     ]
    }
   ],
   "source": [
    "cnt = 0\n",
    "while cnt < 5:\n",
    "    print(\"Hello\")\n",
    "    cnt +=1\n",
    "    if cnt == 3:\n",
    "        break\n",
    "print(\"Finish\")"
   ]
  },
  {
   "cell_type": "code",
   "execution_count": 25,
   "id": "ab07fb07",
   "metadata": {},
   "outputs": [],
   "source": [
    "lst = [94,57,78,21,90,65]"
   ]
  },
  {
   "cell_type": "code",
   "execution_count": 26,
   "id": "bfb7c57c",
   "metadata": {},
   "outputs": [
    {
     "name": "stdout",
     "output_type": "stream",
     "text": [
      "94  -> Distinction\n",
      "57  -> Second class\n",
      "78  -> First class\n",
      "21  -> Fail\n",
      "Come out off loop\n"
     ]
    }
   ],
   "source": [
    "for mark in lst:\n",
    "    if mark > 85:\n",
    "        print(mark,\" -> Distinction\")\n",
    "    elif mark >= 60:\n",
    "        print(mark,\" -> First class\")\n",
    "    elif mark >=50 :\n",
    "        print(mark,\" -> Second class\")\n",
    "    else:\n",
    "        print(mark,\" -> Fail\")\n",
    "        break\n",
    "print(\"Come out off loop\")"
   ]
  },
  {
   "cell_type": "markdown",
   "id": "85758660",
   "metadata": {},
   "source": [
    "### Continue- go back to begining"
   ]
  },
  {
   "cell_type": "code",
   "execution_count": 28,
   "id": "558f580f",
   "metadata": {},
   "outputs": [],
   "source": [
    "lst = [94,47,78,21,90,65]"
   ]
  },
  {
   "cell_type": "code",
   "execution_count": 29,
   "id": "c9a0685f",
   "metadata": {},
   "outputs": [
    {
     "name": "stdout",
     "output_type": "stream",
     "text": [
      "94  -> Distinction\n",
      "78  -> First class\n",
      "90  -> Distinction\n",
      "65  -> First class\n",
      "Continue\n"
     ]
    }
   ],
   "source": [
    "for mark in lst:\n",
    "    if mark > 85:\n",
    "        print(mark,\" -> Distinction\")\n",
    "    elif mark >= 60:\n",
    "        print(mark,\" -> First class\")\n",
    "    elif mark >=50 :\n",
    "        print(mark,\" -> Second class\")\n",
    "    else:\n",
    "        continue\n",
    "        print(mark,\" -> Fail\")\n",
    "        \n",
    "print(\"Continue\")"
   ]
  },
  {
   "cell_type": "code",
   "execution_count": 33,
   "id": "62d742e3",
   "metadata": {},
   "outputs": [
    {
     "name": "stdout",
     "output_type": "stream",
     "text": [
      "94\n",
      "78\n",
      "90\n"
     ]
    }
   ],
   "source": [
    "for i in lst:\n",
    "    if i%2!=0:\n",
    "        continue\n",
    "    print(i)"
   ]
  },
  {
   "cell_type": "markdown",
   "id": "39fa204b",
   "metadata": {},
   "source": [
    "## Functions- Reuse the code"
   ]
  },
  {
   "cell_type": "code",
   "execution_count": 34,
   "id": "e120e1f8",
   "metadata": {},
   "outputs": [],
   "source": [
    "def sqr(x):\n",
    "    return x**2"
   ]
  },
  {
   "cell_type": "code",
   "execution_count": 36,
   "id": "97b56711",
   "metadata": {},
   "outputs": [
    {
     "data": {
      "text/plain": [
       "49"
      ]
     },
     "execution_count": 36,
     "metadata": {},
     "output_type": "execute_result"
    }
   ],
   "source": [
    "sqr(7)"
   ]
  },
  {
   "cell_type": "code",
   "execution_count": 40,
   "id": "7c5e863a",
   "metadata": {},
   "outputs": [],
   "source": [
    "def get_bonus(sal):\n",
    "    '''\n",
    "    Calculates the bonus\n",
    "    Parameters:salary\n",
    "    Returns:salary plus bonus\n",
    "    '''\n",
    "    bonus = sal *0.2\n",
    "    total_sal = sal + bonus\n",
    "    return total_sal"
   ]
  },
  {
   "cell_type": "code",
   "execution_count": 41,
   "id": "09a53cdd",
   "metadata": {},
   "outputs": [
    {
     "data": {
      "text/plain": [
       "72000.0"
      ]
     },
     "execution_count": 41,
     "metadata": {},
     "output_type": "execute_result"
    }
   ],
   "source": [
    "get_bonus(60000)"
   ]
  },
  {
   "cell_type": "code",
   "execution_count": 57,
   "id": "83fcb9f2",
   "metadata": {},
   "outputs": [],
   "source": [
    "def get_grade(marks):\n",
    "    if marks >= 85:\n",
    "        grade=\"Distinction\"\n",
    "    elif marks >= 60:\n",
    "        grade=\"First class\"\n",
    "    elif marks >=50 :\n",
    "        grade=\"Second class\"\n",
    "    else:\n",
    "        grade=\"Fail\"\n",
    "    return grade"
   ]
  },
  {
   "cell_type": "code",
   "execution_count": 61,
   "id": "66e37f2a",
   "metadata": {},
   "outputs": [
    {
     "data": {
      "text/plain": [
       "'Fail'"
      ]
     },
     "execution_count": 61,
     "metadata": {},
     "output_type": "execute_result"
    }
   ],
   "source": [
    "get_grade(44)"
   ]
  },
  {
   "cell_type": "code",
   "execution_count": 1,
   "id": "d1647db1",
   "metadata": {},
   "outputs": [],
   "source": [
    "lst = [94,47,78,21,90,65]"
   ]
  },
  {
   "cell_type": "code",
   "execution_count": 8,
   "id": "f201905d",
   "metadata": {},
   "outputs": [],
   "source": [
    "def get_grade(lst):\n",
    "    grade_list = []\n",
    "    for marks in lst:\n",
    "        if marks >= 85:\n",
    "            grade=\"Distinction\"\n",
    "        elif marks >= 60:\n",
    "            grade=\"First class\"\n",
    "        elif marks >=50 :\n",
    "            grade=\"Second class\"\n",
    "        else:\n",
    "            grade=\"Fail\"\n",
    "        grade_list.append(grade)\n",
    "        \n",
    "    return grade_list"
   ]
  },
  {
   "cell_type": "code",
   "execution_count": 9,
   "id": "7c9d8487",
   "metadata": {},
   "outputs": [
    {
     "data": {
      "text/plain": [
       "['Distinction', 'Fail', 'First class', 'Fail', 'Distinction', 'First class']"
      ]
     },
     "execution_count": 9,
     "metadata": {},
     "output_type": "execute_result"
    }
   ],
   "source": [
    "get_grade(lst)"
   ]
  },
  {
   "cell_type": "markdown",
   "id": "88366ad6",
   "metadata": {},
   "source": [
    "## List comprehension"
   ]
  },
  {
   "cell_type": "code",
   "execution_count": 10,
   "id": "167ad013",
   "metadata": {},
   "outputs": [],
   "source": [
    "orig_lst = [3,8,12,9,5]"
   ]
  },
  {
   "cell_type": "code",
   "execution_count": 11,
   "id": "4ab7ddb6",
   "metadata": {},
   "outputs": [],
   "source": [
    "sqr_lst = []\n",
    "for i in orig_lst:\n",
    "    sqr_lst.append(i**2)"
   ]
  },
  {
   "cell_type": "code",
   "execution_count": 12,
   "id": "d052e491",
   "metadata": {},
   "outputs": [
    {
     "data": {
      "text/plain": [
       "[9, 64, 144, 81, 25]"
      ]
     },
     "execution_count": 12,
     "metadata": {},
     "output_type": "execute_result"
    }
   ],
   "source": [
    "sqr_lst"
   ]
  },
  {
   "cell_type": "code",
   "execution_count": 13,
   "id": "84ca16f0",
   "metadata": {},
   "outputs": [],
   "source": [
    "new_lst = [i**2 for i in orig_lst]"
   ]
  },
  {
   "cell_type": "code",
   "execution_count": 14,
   "id": "4e3793f3",
   "metadata": {},
   "outputs": [
    {
     "data": {
      "text/plain": [
       "[9, 64, 144, 81, 25]"
      ]
     },
     "execution_count": 14,
     "metadata": {},
     "output_type": "execute_result"
    }
   ],
   "source": [
    "new_lst"
   ]
  },
  {
   "cell_type": "markdown",
   "id": "d65b1d93",
   "metadata": {},
   "source": [
    "## Class"
   ]
  },
  {
   "cell_type": "code",
   "execution_count": 17,
   "id": "18aa12d7",
   "metadata": {},
   "outputs": [],
   "source": [
    "class Person:\n",
    "    def __init__(self,name,gender):\n",
    "        self.name = name\n",
    "        self.gender = gender\n",
    "    def speak(self):\n",
    "        print(f'{self.name} is speaking')\n",
    "    def sing(self):\n",
    "        print(f'{self.name} is singing')\n",
    "    def run(self):\n",
    "        print(f'{self.name} is runing')"
   ]
  },
  {
   "cell_type": "code",
   "execution_count": 18,
   "id": "0e209928",
   "metadata": {},
   "outputs": [],
   "source": [
    "# Creating objects of p1 and p2\n",
    "p1 = Person(\"Tom\",\"M\")\n",
    "p2 = Person(\"Mary\",\"F\")"
   ]
  },
  {
   "cell_type": "code",
   "execution_count": 19,
   "id": "bcc11172",
   "metadata": {},
   "outputs": [
    {
     "name": "stdout",
     "output_type": "stream",
     "text": [
      "Tom is singing\n"
     ]
    }
   ],
   "source": [
    "p1.sing()"
   ]
  },
  {
   "cell_type": "code",
   "execution_count": 20,
   "id": "6333444a",
   "metadata": {},
   "outputs": [
    {
     "name": "stdout",
     "output_type": "stream",
     "text": [
      "Mary is speaking\n"
     ]
    }
   ],
   "source": [
    "p2.speak()"
   ]
  },
  {
   "cell_type": "code",
   "execution_count": 21,
   "id": "2bcdb157",
   "metadata": {},
   "outputs": [],
   "source": [
    "import pandas as pd"
   ]
  },
  {
   "cell_type": "code",
   "execution_count": 22,
   "id": "23460ad3",
   "metadata": {},
   "outputs": [],
   "source": [
    "emp_data = [[1,\"Tom\",\"Mgr\",1500],[2,\"Jon\",\"Pgmr\",2500],[3,\"Mary\",\"Clerk\",3500]]"
   ]
  },
  {
   "cell_type": "code",
   "execution_count": 25,
   "id": "2461f869",
   "metadata": {},
   "outputs": [
    {
     "data": {
      "text/html": [
       "<div>\n",
       "<style scoped>\n",
       "    .dataframe tbody tr th:only-of-type {\n",
       "        vertical-align: middle;\n",
       "    }\n",
       "\n",
       "    .dataframe tbody tr th {\n",
       "        vertical-align: top;\n",
       "    }\n",
       "\n",
       "    .dataframe thead th {\n",
       "        text-align: right;\n",
       "    }\n",
       "</style>\n",
       "<table border=\"1\" class=\"dataframe\">\n",
       "  <thead>\n",
       "    <tr style=\"text-align: right;\">\n",
       "      <th></th>\n",
       "      <th>0</th>\n",
       "      <th>1</th>\n",
       "      <th>2</th>\n",
       "      <th>3</th>\n",
       "    </tr>\n",
       "  </thead>\n",
       "  <tbody>\n",
       "    <tr>\n",
       "      <th>0</th>\n",
       "      <td>1</td>\n",
       "      <td>Tom</td>\n",
       "      <td>Mgr</td>\n",
       "      <td>1500</td>\n",
       "    </tr>\n",
       "    <tr>\n",
       "      <th>1</th>\n",
       "      <td>2</td>\n",
       "      <td>Jon</td>\n",
       "      <td>Pgmr</td>\n",
       "      <td>2500</td>\n",
       "    </tr>\n",
       "    <tr>\n",
       "      <th>2</th>\n",
       "      <td>3</td>\n",
       "      <td>Mary</td>\n",
       "      <td>Clerk</td>\n",
       "      <td>3500</td>\n",
       "    </tr>\n",
       "  </tbody>\n",
       "</table>\n",
       "</div>"
      ],
      "text/plain": [
       "   0     1      2     3\n",
       "0  1   Tom    Mgr  1500\n",
       "1  2   Jon   Pgmr  2500\n",
       "2  3  Mary  Clerk  3500"
      ]
     },
     "execution_count": 25,
     "metadata": {},
     "output_type": "execute_result"
    }
   ],
   "source": [
    "df1 = pd.DataFrame(data=emp_data)\n",
    "df1"
   ]
  },
  {
   "cell_type": "code",
   "execution_count": 26,
   "id": "ba76430d",
   "metadata": {},
   "outputs": [],
   "source": [
    "df2 = pd.DataFrame(data=emp_data,columns=[\"Eid\",\"Ename\",\"Job\",\"Salary\"])"
   ]
  },
  {
   "cell_type": "code",
   "execution_count": 27,
   "id": "00e3d419",
   "metadata": {},
   "outputs": [
    {
     "data": {
      "text/html": [
       "<div>\n",
       "<style scoped>\n",
       "    .dataframe tbody tr th:only-of-type {\n",
       "        vertical-align: middle;\n",
       "    }\n",
       "\n",
       "    .dataframe tbody tr th {\n",
       "        vertical-align: top;\n",
       "    }\n",
       "\n",
       "    .dataframe thead th {\n",
       "        text-align: right;\n",
       "    }\n",
       "</style>\n",
       "<table border=\"1\" class=\"dataframe\">\n",
       "  <thead>\n",
       "    <tr style=\"text-align: right;\">\n",
       "      <th></th>\n",
       "      <th>Eid</th>\n",
       "      <th>Ename</th>\n",
       "      <th>Job</th>\n",
       "      <th>Salary</th>\n",
       "    </tr>\n",
       "  </thead>\n",
       "  <tbody>\n",
       "    <tr>\n",
       "      <th>0</th>\n",
       "      <td>1</td>\n",
       "      <td>Tom</td>\n",
       "      <td>Mgr</td>\n",
       "      <td>1500</td>\n",
       "    </tr>\n",
       "    <tr>\n",
       "      <th>1</th>\n",
       "      <td>2</td>\n",
       "      <td>Jon</td>\n",
       "      <td>Pgmr</td>\n",
       "      <td>2500</td>\n",
       "    </tr>\n",
       "    <tr>\n",
       "      <th>2</th>\n",
       "      <td>3</td>\n",
       "      <td>Mary</td>\n",
       "      <td>Clerk</td>\n",
       "      <td>3500</td>\n",
       "    </tr>\n",
       "  </tbody>\n",
       "</table>\n",
       "</div>"
      ],
      "text/plain": [
       "   Eid Ename    Job  Salary\n",
       "0    1   Tom    Mgr    1500\n",
       "1    2   Jon   Pgmr    2500\n",
       "2    3  Mary  Clerk    3500"
      ]
     },
     "execution_count": 27,
     "metadata": {},
     "output_type": "execute_result"
    }
   ],
   "source": [
    "df2"
   ]
  },
  {
   "cell_type": "code",
   "execution_count": 28,
   "id": "94f9caf1",
   "metadata": {},
   "outputs": [],
   "source": [
    "df2 = pd.DataFrame(data=emp_data,columns=[\"Eid\",\"Ename\",\"Job\",\"Salary\"],\n",
    "                  index=[\"E1\",\"E2\",\"E3\"])"
   ]
  },
  {
   "cell_type": "code",
   "execution_count": 29,
   "id": "1558222f",
   "metadata": {},
   "outputs": [
    {
     "data": {
      "text/html": [
       "<div>\n",
       "<style scoped>\n",
       "    .dataframe tbody tr th:only-of-type {\n",
       "        vertical-align: middle;\n",
       "    }\n",
       "\n",
       "    .dataframe tbody tr th {\n",
       "        vertical-align: top;\n",
       "    }\n",
       "\n",
       "    .dataframe thead th {\n",
       "        text-align: right;\n",
       "    }\n",
       "</style>\n",
       "<table border=\"1\" class=\"dataframe\">\n",
       "  <thead>\n",
       "    <tr style=\"text-align: right;\">\n",
       "      <th></th>\n",
       "      <th>Eid</th>\n",
       "      <th>Ename</th>\n",
       "      <th>Job</th>\n",
       "      <th>Salary</th>\n",
       "    </tr>\n",
       "  </thead>\n",
       "  <tbody>\n",
       "    <tr>\n",
       "      <th>E1</th>\n",
       "      <td>1</td>\n",
       "      <td>Tom</td>\n",
       "      <td>Mgr</td>\n",
       "      <td>1500</td>\n",
       "    </tr>\n",
       "    <tr>\n",
       "      <th>E2</th>\n",
       "      <td>2</td>\n",
       "      <td>Jon</td>\n",
       "      <td>Pgmr</td>\n",
       "      <td>2500</td>\n",
       "    </tr>\n",
       "    <tr>\n",
       "      <th>E3</th>\n",
       "      <td>3</td>\n",
       "      <td>Mary</td>\n",
       "      <td>Clerk</td>\n",
       "      <td>3500</td>\n",
       "    </tr>\n",
       "  </tbody>\n",
       "</table>\n",
       "</div>"
      ],
      "text/plain": [
       "    Eid Ename    Job  Salary\n",
       "E1    1   Tom    Mgr    1500\n",
       "E2    2   Jon   Pgmr    2500\n",
       "E3    3  Mary  Clerk    3500"
      ]
     },
     "execution_count": 29,
     "metadata": {},
     "output_type": "execute_result"
    }
   ],
   "source": [
    "df2"
   ]
  },
  {
   "cell_type": "markdown",
   "id": "d02e90bb",
   "metadata": {},
   "source": [
    "## Access Columns"
   ]
  },
  {
   "cell_type": "code",
   "execution_count": 31,
   "id": "37ef3de1",
   "metadata": {},
   "outputs": [
    {
     "data": {
      "text/plain": [
       "E1     Tom\n",
       "E2     Jon\n",
       "E3    Mary\n",
       "Name: Ename, dtype: object"
      ]
     },
     "execution_count": 31,
     "metadata": {},
     "output_type": "execute_result"
    }
   ],
   "source": [
    "df2[\"Ename\"]"
   ]
  },
  {
   "cell_type": "code",
   "execution_count": 32,
   "id": "093c6c28",
   "metadata": {},
   "outputs": [
    {
     "data": {
      "text/html": [
       "<div>\n",
       "<style scoped>\n",
       "    .dataframe tbody tr th:only-of-type {\n",
       "        vertical-align: middle;\n",
       "    }\n",
       "\n",
       "    .dataframe tbody tr th {\n",
       "        vertical-align: top;\n",
       "    }\n",
       "\n",
       "    .dataframe thead th {\n",
       "        text-align: right;\n",
       "    }\n",
       "</style>\n",
       "<table border=\"1\" class=\"dataframe\">\n",
       "  <thead>\n",
       "    <tr style=\"text-align: right;\">\n",
       "      <th></th>\n",
       "      <th>Ename</th>\n",
       "      <th>Salary</th>\n",
       "    </tr>\n",
       "  </thead>\n",
       "  <tbody>\n",
       "    <tr>\n",
       "      <th>E1</th>\n",
       "      <td>Tom</td>\n",
       "      <td>1500</td>\n",
       "    </tr>\n",
       "    <tr>\n",
       "      <th>E2</th>\n",
       "      <td>Jon</td>\n",
       "      <td>2500</td>\n",
       "    </tr>\n",
       "    <tr>\n",
       "      <th>E3</th>\n",
       "      <td>Mary</td>\n",
       "      <td>3500</td>\n",
       "    </tr>\n",
       "  </tbody>\n",
       "</table>\n",
       "</div>"
      ],
      "text/plain": [
       "   Ename  Salary\n",
       "E1   Tom    1500\n",
       "E2   Jon    2500\n",
       "E3  Mary    3500"
      ]
     },
     "execution_count": 32,
     "metadata": {},
     "output_type": "execute_result"
    }
   ],
   "source": [
    "df2[[\"Ename\",\"Salary\"]]"
   ]
  },
  {
   "cell_type": "code",
   "execution_count": 33,
   "id": "bf64eaca",
   "metadata": {},
   "outputs": [
    {
     "data": {
      "text/plain": [
       "E1     Tom\n",
       "E2     Jon\n",
       "E3    Mary\n",
       "Name: Ename, dtype: object"
      ]
     },
     "execution_count": 33,
     "metadata": {},
     "output_type": "execute_result"
    }
   ],
   "source": [
    "df2.iloc[:,1]"
   ]
  },
  {
   "cell_type": "code",
   "execution_count": 35,
   "id": "35071e90",
   "metadata": {},
   "outputs": [
    {
     "data": {
      "text/plain": [
       "E1      Mgr\n",
       "E2     Pgmr\n",
       "E3    Clerk\n",
       "Name: Job, dtype: object"
      ]
     },
     "execution_count": 35,
     "metadata": {},
     "output_type": "execute_result"
    }
   ],
   "source": [
    "df2.iloc[:,2]"
   ]
  },
  {
   "cell_type": "code",
   "execution_count": 36,
   "id": "67560a2b",
   "metadata": {},
   "outputs": [
    {
     "data": {
      "text/html": [
       "<div>\n",
       "<style scoped>\n",
       "    .dataframe tbody tr th:only-of-type {\n",
       "        vertical-align: middle;\n",
       "    }\n",
       "\n",
       "    .dataframe tbody tr th {\n",
       "        vertical-align: top;\n",
       "    }\n",
       "\n",
       "    .dataframe thead th {\n",
       "        text-align: right;\n",
       "    }\n",
       "</style>\n",
       "<table border=\"1\" class=\"dataframe\">\n",
       "  <thead>\n",
       "    <tr style=\"text-align: right;\">\n",
       "      <th></th>\n",
       "      <th>Ename</th>\n",
       "      <th>Job</th>\n",
       "    </tr>\n",
       "  </thead>\n",
       "  <tbody>\n",
       "    <tr>\n",
       "      <th>E1</th>\n",
       "      <td>Tom</td>\n",
       "      <td>Mgr</td>\n",
       "    </tr>\n",
       "    <tr>\n",
       "      <th>E2</th>\n",
       "      <td>Jon</td>\n",
       "      <td>Pgmr</td>\n",
       "    </tr>\n",
       "    <tr>\n",
       "      <th>E3</th>\n",
       "      <td>Mary</td>\n",
       "      <td>Clerk</td>\n",
       "    </tr>\n",
       "  </tbody>\n",
       "</table>\n",
       "</div>"
      ],
      "text/plain": [
       "   Ename    Job\n",
       "E1   Tom    Mgr\n",
       "E2   Jon   Pgmr\n",
       "E3  Mary  Clerk"
      ]
     },
     "execution_count": 36,
     "metadata": {},
     "output_type": "execute_result"
    }
   ],
   "source": [
    "df2.iloc[:,1:3]"
   ]
  },
  {
   "cell_type": "code",
   "execution_count": 37,
   "id": "22da2ba4",
   "metadata": {},
   "outputs": [
    {
     "data": {
      "text/plain": [
       "Eid          1\n",
       "Ename      Tom\n",
       "Job        Mgr\n",
       "Salary    1500\n",
       "Name: E1, dtype: object"
      ]
     },
     "execution_count": 37,
     "metadata": {},
     "output_type": "execute_result"
    }
   ],
   "source": [
    "df2.loc[\"E1\"]"
   ]
  },
  {
   "cell_type": "code",
   "execution_count": 38,
   "id": "fddc7a93",
   "metadata": {},
   "outputs": [
    {
     "data": {
      "text/html": [
       "<div>\n",
       "<style scoped>\n",
       "    .dataframe tbody tr th:only-of-type {\n",
       "        vertical-align: middle;\n",
       "    }\n",
       "\n",
       "    .dataframe tbody tr th {\n",
       "        vertical-align: top;\n",
       "    }\n",
       "\n",
       "    .dataframe thead th {\n",
       "        text-align: right;\n",
       "    }\n",
       "</style>\n",
       "<table border=\"1\" class=\"dataframe\">\n",
       "  <thead>\n",
       "    <tr style=\"text-align: right;\">\n",
       "      <th></th>\n",
       "      <th>Eid</th>\n",
       "      <th>Ename</th>\n",
       "      <th>Job</th>\n",
       "      <th>Salary</th>\n",
       "    </tr>\n",
       "  </thead>\n",
       "  <tbody>\n",
       "    <tr>\n",
       "      <th>E1</th>\n",
       "      <td>1</td>\n",
       "      <td>Tom</td>\n",
       "      <td>Mgr</td>\n",
       "      <td>1500</td>\n",
       "    </tr>\n",
       "    <tr>\n",
       "      <th>E2</th>\n",
       "      <td>2</td>\n",
       "      <td>Jon</td>\n",
       "      <td>Pgmr</td>\n",
       "      <td>2500</td>\n",
       "    </tr>\n",
       "  </tbody>\n",
       "</table>\n",
       "</div>"
      ],
      "text/plain": [
       "    Eid Ename   Job  Salary\n",
       "E1    1   Tom   Mgr    1500\n",
       "E2    2   Jon  Pgmr    2500"
      ]
     },
     "execution_count": 38,
     "metadata": {},
     "output_type": "execute_result"
    }
   ],
   "source": [
    "df2.loc[\"E1\":\"E2\"]"
   ]
  },
  {
   "cell_type": "code",
   "execution_count": 39,
   "id": "770ac8d9",
   "metadata": {},
   "outputs": [
    {
     "data": {
      "text/html": [
       "<div>\n",
       "<style scoped>\n",
       "    .dataframe tbody tr th:only-of-type {\n",
       "        vertical-align: middle;\n",
       "    }\n",
       "\n",
       "    .dataframe tbody tr th {\n",
       "        vertical-align: top;\n",
       "    }\n",
       "\n",
       "    .dataframe thead th {\n",
       "        text-align: right;\n",
       "    }\n",
       "</style>\n",
       "<table border=\"1\" class=\"dataframe\">\n",
       "  <thead>\n",
       "    <tr style=\"text-align: right;\">\n",
       "      <th></th>\n",
       "      <th>Eid</th>\n",
       "      <th>Ename</th>\n",
       "      <th>Job</th>\n",
       "      <th>Salary</th>\n",
       "    </tr>\n",
       "  </thead>\n",
       "  <tbody>\n",
       "    <tr>\n",
       "      <th>E1</th>\n",
       "      <td>1</td>\n",
       "      <td>Tom</td>\n",
       "      <td>Mgr</td>\n",
       "      <td>1500</td>\n",
       "    </tr>\n",
       "    <tr>\n",
       "      <th>E3</th>\n",
       "      <td>3</td>\n",
       "      <td>Mary</td>\n",
       "      <td>Clerk</td>\n",
       "      <td>3500</td>\n",
       "    </tr>\n",
       "  </tbody>\n",
       "</table>\n",
       "</div>"
      ],
      "text/plain": [
       "    Eid Ename    Job  Salary\n",
       "E1    1   Tom    Mgr    1500\n",
       "E3    3  Mary  Clerk    3500"
      ]
     },
     "execution_count": 39,
     "metadata": {},
     "output_type": "execute_result"
    }
   ],
   "source": [
    "df2.loc[[\"E1\",\"E3\"]]"
   ]
  },
  {
   "cell_type": "code",
   "execution_count": 40,
   "id": "3ff21205",
   "metadata": {},
   "outputs": [
    {
     "data": {
      "text/plain": [
       "Eid          2\n",
       "Ename      Jon\n",
       "Job       Pgmr\n",
       "Salary    2500\n",
       "Name: E2, dtype: object"
      ]
     },
     "execution_count": 40,
     "metadata": {},
     "output_type": "execute_result"
    }
   ],
   "source": [
    "df2.iloc[1]"
   ]
  },
  {
   "cell_type": "code",
   "execution_count": 41,
   "id": "9e5cbd91",
   "metadata": {},
   "outputs": [
    {
     "data": {
      "text/html": [
       "<div>\n",
       "<style scoped>\n",
       "    .dataframe tbody tr th:only-of-type {\n",
       "        vertical-align: middle;\n",
       "    }\n",
       "\n",
       "    .dataframe tbody tr th {\n",
       "        vertical-align: top;\n",
       "    }\n",
       "\n",
       "    .dataframe thead th {\n",
       "        text-align: right;\n",
       "    }\n",
       "</style>\n",
       "<table border=\"1\" class=\"dataframe\">\n",
       "  <thead>\n",
       "    <tr style=\"text-align: right;\">\n",
       "      <th></th>\n",
       "      <th>Eid</th>\n",
       "      <th>Ename</th>\n",
       "      <th>Job</th>\n",
       "      <th>Salary</th>\n",
       "    </tr>\n",
       "  </thead>\n",
       "  <tbody>\n",
       "    <tr>\n",
       "      <th>E2</th>\n",
       "      <td>2</td>\n",
       "      <td>Jon</td>\n",
       "      <td>Pgmr</td>\n",
       "      <td>2500</td>\n",
       "    </tr>\n",
       "    <tr>\n",
       "      <th>E3</th>\n",
       "      <td>3</td>\n",
       "      <td>Mary</td>\n",
       "      <td>Clerk</td>\n",
       "      <td>3500</td>\n",
       "    </tr>\n",
       "  </tbody>\n",
       "</table>\n",
       "</div>"
      ],
      "text/plain": [
       "    Eid Ename    Job  Salary\n",
       "E2    2   Jon   Pgmr    2500\n",
       "E3    3  Mary  Clerk    3500"
      ]
     },
     "execution_count": 41,
     "metadata": {},
     "output_type": "execute_result"
    }
   ],
   "source": [
    "df2.iloc[1:3]"
   ]
  },
  {
   "cell_type": "code",
   "execution_count": 47,
   "id": "137664af",
   "metadata": {},
   "outputs": [
    {
     "data": {
      "text/html": [
       "<div>\n",
       "<style scoped>\n",
       "    .dataframe tbody tr th:only-of-type {\n",
       "        vertical-align: middle;\n",
       "    }\n",
       "\n",
       "    .dataframe tbody tr th {\n",
       "        vertical-align: top;\n",
       "    }\n",
       "\n",
       "    .dataframe thead th {\n",
       "        text-align: right;\n",
       "    }\n",
       "</style>\n",
       "<table border=\"1\" class=\"dataframe\">\n",
       "  <thead>\n",
       "    <tr style=\"text-align: right;\">\n",
       "      <th></th>\n",
       "      <th>Eid</th>\n",
       "      <th>Ename</th>\n",
       "      <th>Job</th>\n",
       "      <th>Salary</th>\n",
       "    </tr>\n",
       "  </thead>\n",
       "  <tbody>\n",
       "    <tr>\n",
       "      <th>E2</th>\n",
       "      <td>2</td>\n",
       "      <td>Jon</td>\n",
       "      <td>Pgmr</td>\n",
       "      <td>2500</td>\n",
       "    </tr>\n",
       "    <tr>\n",
       "      <th>E3</th>\n",
       "      <td>3</td>\n",
       "      <td>Mary</td>\n",
       "      <td>Clerk</td>\n",
       "      <td>3500</td>\n",
       "    </tr>\n",
       "  </tbody>\n",
       "</table>\n",
       "</div>"
      ],
      "text/plain": [
       "    Eid Ename    Job  Salary\n",
       "E2    2   Jon   Pgmr    2500\n",
       "E3    3  Mary  Clerk    3500"
      ]
     },
     "execution_count": 47,
     "metadata": {},
     "output_type": "execute_result"
    }
   ],
   "source": [
    "df2[df2[\"Salary\"]>2000]"
   ]
  },
  {
   "cell_type": "code",
   "execution_count": 48,
   "id": "d2862f89",
   "metadata": {},
   "outputs": [
    {
     "data": {
      "text/html": [
       "<div>\n",
       "<style scoped>\n",
       "    .dataframe tbody tr th:only-of-type {\n",
       "        vertical-align: middle;\n",
       "    }\n",
       "\n",
       "    .dataframe tbody tr th {\n",
       "        vertical-align: top;\n",
       "    }\n",
       "\n",
       "    .dataframe thead th {\n",
       "        text-align: right;\n",
       "    }\n",
       "</style>\n",
       "<table border=\"1\" class=\"dataframe\">\n",
       "  <thead>\n",
       "    <tr style=\"text-align: right;\">\n",
       "      <th></th>\n",
       "      <th>Eid</th>\n",
       "      <th>Ename</th>\n",
       "      <th>Job</th>\n",
       "      <th>Salary</th>\n",
       "    </tr>\n",
       "  </thead>\n",
       "  <tbody>\n",
       "    <tr>\n",
       "      <th>E2</th>\n",
       "      <td>2</td>\n",
       "      <td>Jon</td>\n",
       "      <td>Pgmr</td>\n",
       "      <td>2500</td>\n",
       "    </tr>\n",
       "  </tbody>\n",
       "</table>\n",
       "</div>"
      ],
      "text/plain": [
       "    Eid Ename   Job  Salary\n",
       "E2    2   Jon  Pgmr    2500"
      ]
     },
     "execution_count": 48,
     "metadata": {},
     "output_type": "execute_result"
    }
   ],
   "source": [
    "df2[(df2[\"Salary\"]>2000)&(df2[\"Salary\"]<3000)]"
   ]
  },
  {
   "cell_type": "code",
   "execution_count": null,
   "id": "3bdab453",
   "metadata": {},
   "outputs": [],
   "source": []
  }
 ],
 "metadata": {
  "kernelspec": {
   "display_name": "Python 3 (ipykernel)",
   "language": "python",
   "name": "python3"
  },
  "language_info": {
   "codemirror_mode": {
    "name": "ipython",
    "version": 3
   },
   "file_extension": ".py",
   "mimetype": "text/x-python",
   "name": "python",
   "nbconvert_exporter": "python",
   "pygments_lexer": "ipython3",
   "version": "3.9.13"
  }
 },
 "nbformat": 4,
 "nbformat_minor": 5
}
